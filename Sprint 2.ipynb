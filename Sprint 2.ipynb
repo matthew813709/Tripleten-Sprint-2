{
 "cells": [
  {
   "cell_type": "markdown",
   "id": "98bcb1ed",
   "metadata": {},
   "source": [
    "The purpose of this study is to analyze several Instacart orders and products, to analyze customer ordering habits and hopefully boost sales once these patterns are recognized."
   ]
  },
  {
   "cell_type": "code",
   "execution_count": 1,
   "id": "fbf1adab",
   "metadata": {},
   "outputs": [],
   "source": [
    "import pandas as pd"
   ]
  },
  {
   "cell_type": "markdown",
   "id": "b3aa1c6f",
   "metadata": {},
   "source": []
  },
  {
   "cell_type": "code",
   "execution_count": 2,
   "id": "ad36396d",
   "metadata": {},
   "outputs": [],
   "source": [
    "orders = pd.read_csv('/datasets/instacart_orders.csv', sep=';')"
   ]
  },
  {
   "cell_type": "code",
   "execution_count": 3,
   "id": "ad6a1efa",
   "metadata": {},
   "outputs": [],
   "source": [
    "products = pd.read_csv('/datasets/products.csv', sep=';')"
   ]
  },
  {
   "cell_type": "code",
   "execution_count": 4,
   "id": "5130e05e",
   "metadata": {},
   "outputs": [],
   "source": [
    "aisles = pd.read_csv('/datasets/aisles.csv', sep=';')"
   ]
  },
  {
   "cell_type": "code",
   "execution_count": 5,
   "id": "d8370c05",
   "metadata": {},
   "outputs": [],
   "source": [
    "departments = pd.read_csv('/datasets/departments.csv', sep=';')"
   ]
  },
  {
   "cell_type": "code",
   "execution_count": 6,
   "id": "59e2090f",
   "metadata": {},
   "outputs": [],
   "source": [
    "orderproducts = pd.read_csv('/datasets/order_products.csv', sep=';')"
   ]
  },
  {
   "cell_type": "markdown",
   "id": "785c2697",
   "metadata": {},
   "source": []
  },
  {
   "cell_type": "markdown",
   "id": "ea98ebc5",
   "metadata": {},
   "source": []
  },
  {
   "cell_type": "markdown",
   "id": "07357848-dc64-4156-9cc3-01ff4365226d",
   "metadata": {},
   "source": [
    "## Find and remove duplicate values (and describe why you make your choices)"
   ]
  },
  {
   "cell_type": "markdown",
   "id": "f179f0a9",
   "metadata": {},
   "source": [
    "### `orders` data frame"
   ]
  },
  {
   "cell_type": "code",
   "execution_count": 7,
   "id": "b99297a5-405a-463d-8535-9adc3da4ad74",
   "metadata": {
    "scrolled": true
   },
   "outputs": [],
   "source": [
    "# Check for duplicated orders\n",
    "duporders0 = orders.duplicated().sum()"
   ]
  },
  {
   "cell_type": "code",
   "execution_count": 8,
   "id": "0d44de5d",
   "metadata": {},
   "outputs": [
    {
     "name": "stdout",
     "output_type": "stream",
     "text": [
      "        order_id  user_id  order_number  order_dow  order_hour_of_day  \\\n",
      "4838     2766110   162084            41          3                  2   \n",
      "5156     2190225   138285            18          3                  2   \n",
      "15506     553049    58599            13          3                  2   \n",
      "18420     382357   120200            19          3                  2   \n",
      "24691     690242    77357             2          3                  2   \n",
      "...          ...      ...           ...        ...                ...   \n",
      "457013   3384021    14881             6          3                  2   \n",
      "458816    910166   164782            18          3                  2   \n",
      "459635   1680532   106435             6          3                  2   \n",
      "468324    222962    54979            59          3                  2   \n",
      "477526   2592344    46860            38          3                  2   \n",
      "\n",
      "        days_since_prior_order  \n",
      "4838                      16.0  \n",
      "5156                      11.0  \n",
      "15506                      7.0  \n",
      "18420                     11.0  \n",
      "24691                      9.0  \n",
      "...                        ...  \n",
      "457013                    30.0  \n",
      "458816                     4.0  \n",
      "459635                    21.0  \n",
      "468324                     3.0  \n",
      "477526                     3.0  \n",
      "\n",
      "[121 rows x 6 columns]\n"
     ]
    }
   ],
   "source": [
    "wed_2am_orders = orders[(orders['order_dow'] == 3) & (orders['order_hour_of_day'] == 2)]\n",
    "\n",
    "print(wed_2am_orders)"
   ]
  },
  {
   "cell_type": "code",
   "execution_count": 9,
   "id": "480563c7",
   "metadata": {},
   "outputs": [
    {
     "name": "stdout",
     "output_type": "stream",
     "text": [
      "\n",
      "        order_id  user_id  order_number  order_dow  order_hour_of_day  \\\n",
      "0        1515936   183418            11          6                 13   \n",
      "1        1690866   163593             5          5                 12   \n",
      "2        1454967    39980             4          5                 19   \n",
      "3        1768857    82516            56          0                 20   \n",
      "4        3007858   196724             2          4                 12   \n",
      "...          ...      ...           ...        ...                ...   \n",
      "478962   3210681     5617             5          1                 14   \n",
      "478963   3270802   112087             2          3                 13   \n",
      "478964    885349    82944            16          2                 11   \n",
      "478965    216274     4391             3          3                  8   \n",
      "478966   2071924     1730            18          1                 14   \n",
      "\n",
      "        days_since_prior_order  \n",
      "0                         30.0  \n",
      "1                          9.0  \n",
      "2                          2.0  \n",
      "3                         10.0  \n",
      "4                         17.0  \n",
      "...                        ...  \n",
      "478962                     7.0  \n",
      "478963                     6.0  \n",
      "478964                     6.0  \n",
      "478965                     8.0  \n",
      "478966                    15.0  \n",
      "\n",
      "[478952 rows x 6 columns]\n"
     ]
    }
   ],
   "source": [
    "# Remove duplicate orders\n",
    "order_duplicates = orders.drop_duplicates()\n",
    "print()\n",
    "print(order_duplicates)"
   ]
  },
  {
   "cell_type": "code",
   "execution_count": 10,
   "id": "0b2396a2",
   "metadata": {},
   "outputs": [
    {
     "name": "stdout",
     "output_type": "stream",
     "text": [
      "        order_id  user_id  order_number  order_dow  order_hour_of_day  \\\n",
      "0        1515936   183418            11          6                 13   \n",
      "1        1690866   163593             5          5                 12   \n",
      "2        1454967    39980             4          5                 19   \n",
      "3        1768857    82516            56          0                 20   \n",
      "4        3007858   196724             2          4                 12   \n",
      "...          ...      ...           ...        ...                ...   \n",
      "478962   3210681     5617             5          1                 14   \n",
      "478963   3270802   112087             2          3                 13   \n",
      "478964    885349    82944            16          2                 11   \n",
      "478965    216274     4391             3          3                  8   \n",
      "478966   2071924     1730            18          1                 14   \n",
      "\n",
      "        days_since_prior_order  \n",
      "0                         30.0  \n",
      "1                          9.0  \n",
      "2                          2.0  \n",
      "3                         10.0  \n",
      "4                         17.0  \n",
      "...                        ...  \n",
      "478962                     7.0  \n",
      "478963                     6.0  \n",
      "478964                     6.0  \n",
      "478965                     8.0  \n",
      "478966                    15.0  \n",
      "\n",
      "[478952 rows x 6 columns]\n"
     ]
    }
   ],
   "source": [
    "# Double check for duplicate rows\n",
    "print(order_duplicates)"
   ]
  },
  {
   "cell_type": "code",
   "execution_count": 11,
   "id": "f6113ef1",
   "metadata": {},
   "outputs": [
    {
     "name": "stdout",
     "output_type": "stream",
     "text": [
      "Index(['product_id', 'product_name', 'aisle_id', 'department_id'], dtype='object')\n"
     ]
    }
   ],
   "source": [
    "# Double check for duplicate order IDs only\n",
    "print(products.columns)"
   ]
  },
  {
   "cell_type": "code",
   "execution_count": 12,
   "id": "18cae4c4",
   "metadata": {},
   "outputs": [
    {
     "name": "stdout",
     "output_type": "stream",
     "text": [
      "0\n"
     ]
    }
   ],
   "source": [
    "product_duplicates = products.duplicated().sum()\n",
    "print(product_duplicates)"
   ]
  },
  {
   "cell_type": "markdown",
   "id": "5e8905ae",
   "metadata": {},
   "source": []
  },
  {
   "cell_type": "markdown",
   "id": "45e6bc46",
   "metadata": {},
   "source": [
    "### `products` data frame"
   ]
  },
  {
   "cell_type": "code",
   "execution_count": 13,
   "id": "5f526b5b-8175-46fa-a0fd-441767d50e64",
   "metadata": {},
   "outputs": [
    {
     "name": "stdout",
     "output_type": "stream",
     "text": [
      "        order_id  user_id  order_number  order_dow  order_hour_of_day  \\\n",
      "0        1515936   183418            11          6                 13   \n",
      "1        1690866   163593             5          5                 12   \n",
      "2        1454967    39980             4          5                 19   \n",
      "3        1768857    82516            56          0                 20   \n",
      "4        3007858   196724             2          4                 12   \n",
      "...          ...      ...           ...        ...                ...   \n",
      "478962   3210681     5617             5          1                 14   \n",
      "478963   3270802   112087             2          3                 13   \n",
      "478964    885349    82944            16          2                 11   \n",
      "478965    216274     4391             3          3                  8   \n",
      "478966   2071924     1730            18          1                 14   \n",
      "\n",
      "        days_since_prior_order  \n",
      "0                         30.0  \n",
      "1                          9.0  \n",
      "2                          2.0  \n",
      "3                         10.0  \n",
      "4                         17.0  \n",
      "...                        ...  \n",
      "478962                     7.0  \n",
      "478963                     6.0  \n",
      "478964                     6.0  \n",
      "478965                     8.0  \n",
      "478966                    15.0  \n",
      "\n",
      "[478967 rows x 6 columns]\n",
      "\n",
      "order_id  user_id  order_number  order_dow  order_hour_of_day  days_since_prior_order\n",
      "1021560   53767    3             3          2                  9.0                       2\n",
      "467134    63189    21            3          2                  2.0                       2\n",
      "391768    57671    19            3          2                  10.0                      2\n",
      "2282673   86751    49            3          2                  2.0                       2\n",
      "408114    68324    4             3          2                  18.0                      2\n",
      "                                                                                        ..\n",
      "1141863   88987    2             1          11                 14.0                      1\n",
      "1141854   125458   91            6          8                  2.0                       1\n",
      "1141847   156072   4             2          21                 6.0                       1\n",
      "1141845   153218   2             3          8                  6.0                       1\n",
      "3421079   108687   6             1          13                 0.0                       1\n",
      "Length: 450135, dtype: int64\n"
     ]
    }
   ],
   "source": [
    "# Check for fully duplicate rows\n",
    "print(orders)\n",
    "print()\n",
    "print(orders.value_counts())"
   ]
  },
  {
   "cell_type": "code",
   "execution_count": 14,
   "id": "88daa4f4",
   "metadata": {},
   "outputs": [
    {
     "name": "stdout",
     "output_type": "stream",
     "text": [
      "2125197    2\n",
      "1782114    2\n",
      "1286742    2\n",
      "391768     2\n",
      "1021560    2\n",
      "          ..\n",
      "1273706    1\n",
      "689148     1\n",
      "1752059    1\n",
      "2794488    1\n",
      "2047       1\n",
      "Name: order_id, Length: 478952, dtype: int64\n"
     ]
    }
   ],
   "source": [
    "# Check for just duplicate product IDs\n",
    "print(orders['order_id'].value_counts())"
   ]
  },
  {
   "cell_type": "code",
   "execution_count": 15,
   "id": "c773f0bf",
   "metadata": {},
   "outputs": [
    {
     "name": "stdout",
     "output_type": "stream",
     "text": [
      "green tea with ginseng and honey                           3\n",
      "chicken in a biskit baked snack crackers                   2\n",
      "half and half                                              2\n",
      "aged balsamic vinegar of modena                            2\n",
      "original bbq sauce                                         2\n",
      "                                                          ..\n",
      "beef raviolis pasta in meat sauce                          1\n",
      "colorful coarse ground blend seasoned pepper               1\n",
      "drinkable lowfat yogurt strawberry                         1\n",
      "maple almond protein bar                                   1\n",
      "better than cream cheese - plain imitation cream cheese    1\n",
      "Name: product_name, Length: 48332, dtype: int64\n"
     ]
    }
   ],
   "source": [
    "# Check for just duplicate product names (convert names to lowercase to compare better)\n",
    "lowercase_counts = products['product_name'].str.lower().value_counts()\n",
    "\n",
    "print(lowercase_counts)"
   ]
  },
  {
   "cell_type": "code",
   "execution_count": 16,
   "id": "01efd02e",
   "metadata": {},
   "outputs": [
    {
     "name": "stdout",
     "output_type": "stream",
     "text": [
      "       product_id                                       product_name  \\\n",
      "0               1                         Chocolate Sandwich Cookies   \n",
      "1               2                                   All-Seasons Salt   \n",
      "2               3               Robust Golden Unsweetened Oolong Tea   \n",
      "3               4  Smart Ones Classic Favorites Mini Rigatoni Wit...   \n",
      "4               5                          Green Chile Anytime Sauce   \n",
      "...           ...                                                ...   \n",
      "49689       49690                      HIGH PERFORMANCE ENERGY DRINK   \n",
      "49690       49691                      ORIGINAL PANCAKE & WAFFLE MIX   \n",
      "49691       49692    ORGANIC INSTANT OATMEAL LIGHT MAPLE BROWN SUGAR   \n",
      "49692       49693                             SPRING WATER BODY WASH   \n",
      "49693       49694                            BURRITO- STEAK & CHEESE   \n",
      "\n",
      "       aisle_id  department_id  \n",
      "0            61             19  \n",
      "1           104             13  \n",
      "2            94              7  \n",
      "3            38              1  \n",
      "4             5             13  \n",
      "...         ...            ...  \n",
      "49689        64              7  \n",
      "49690       130             14  \n",
      "49691       130             14  \n",
      "49692       127             11  \n",
      "49693        38              1  \n",
      "\n",
      "[48437 rows x 4 columns]\n"
     ]
    }
   ],
   "source": [
    "# Check for duplicate product names that aren't missing\n",
    "products_cleaned = products.drop_duplicates(subset=['product_name'], keep='first')\n",
    "print(products_cleaned)"
   ]
  },
  {
   "cell_type": "markdown",
   "id": "9da8d293",
   "metadata": {},
   "source": []
  },
  {
   "cell_type": "markdown",
   "id": "60f30db1",
   "metadata": {},
   "source": [
    "### `departments` data frame"
   ]
  },
  {
   "cell_type": "code",
   "execution_count": 17,
   "id": "fb410ad4-0fbf-4b80-bb09-23fdea79afe3",
   "metadata": {},
   "outputs": [
    {
     "name": "stdout",
     "output_type": "stream",
     "text": [
      "0\n"
     ]
    }
   ],
   "source": [
    "department_duplicates = departments.duplicated().sum()\n",
    "print(department_duplicates)"
   ]
  },
  {
   "cell_type": "markdown",
   "id": "bd30d78e",
   "metadata": {},
   "source": []
  },
  {
   "cell_type": "markdown",
   "id": "889349c1",
   "metadata": {},
   "source": [
    "### `aisles` data frame"
   ]
  },
  {
   "cell_type": "code",
   "execution_count": 18,
   "id": "9da89fb9-4679-40f5-ad0d-c34df753a3f8",
   "metadata": {},
   "outputs": [
    {
     "name": "stdout",
     "output_type": "stream",
     "text": [
      "0\n"
     ]
    }
   ],
   "source": [
    "aisle_duplicates = aisles.duplicated().sum()\n",
    "print(aisle_duplicates)"
   ]
  },
  {
   "cell_type": "markdown",
   "id": "ac63826f",
   "metadata": {},
   "source": []
  },
  {
   "cell_type": "markdown",
   "id": "274cd06a",
   "metadata": {},
   "source": [
    "### `order_products` data frame"
   ]
  },
  {
   "cell_type": "code",
   "execution_count": 19,
   "id": "52326689-84a8-4b8f-a881-7c68780f62c9",
   "metadata": {},
   "outputs": [
    {
     "name": "stdout",
     "output_type": "stream",
     "text": [
      "0          False\n",
      "1          False\n",
      "2          False\n",
      "3          False\n",
      "4          False\n",
      "           ...  \n",
      "4545002    False\n",
      "4545003    False\n",
      "4545004    False\n",
      "4545005    False\n",
      "4545006    False\n",
      "Length: 4545007, dtype: bool\n"
     ]
    }
   ],
   "source": [
    "# Check for fullly duplicate rows\n",
    "orderproduct_duplicates = orderproducts.duplicated()\n",
    "print(orderproduct_duplicates)"
   ]
  },
  {
   "cell_type": "code",
   "execution_count": 20,
   "id": "7b861391",
   "metadata": {},
   "outputs": [
    {
     "name": "stdout",
     "output_type": "stream",
     "text": [
      "         order_id  product_id  add_to_cart_order  reordered\n",
      "0         2141543       11440               17.0          0\n",
      "1          567889        1560                1.0          1\n",
      "2         2261212       26683                1.0          1\n",
      "3          491251        8670               35.0          1\n",
      "4         2571142        1940                5.0          1\n",
      "...           ...         ...                ...        ...\n",
      "4539981    267402       45226               14.0          0\n",
      "4540724   2621676       25201               10.0          0\n",
      "4540999    937623       49153                2.0          0\n",
      "4541048    532895        8182                1.0          0\n",
      "4542909   3132243       40024                1.0          0\n",
      "\n",
      "[45573 rows x 4 columns]\n"
     ]
    }
   ],
   "source": [
    "# Double check for any other tricky duplicates\n",
    "orderproduct_duplicates = orderproducts.drop_duplicates(subset='product_id')\n",
    "print(orderproduct_duplicates)"
   ]
  },
  {
   "cell_type": "code",
   "execution_count": 21,
   "id": "a87a5a16",
   "metadata": {},
   "outputs": [
    {
     "data": {
      "text/html": [
       "<div>\n",
       "<style scoped>\n",
       "    .dataframe tbody tr th:only-of-type {\n",
       "        vertical-align: middle;\n",
       "    }\n",
       "\n",
       "    .dataframe tbody tr th {\n",
       "        vertical-align: top;\n",
       "    }\n",
       "\n",
       "    .dataframe thead th {\n",
       "        text-align: right;\n",
       "    }\n",
       "</style>\n",
       "<table border=\"1\" class=\"dataframe\">\n",
       "  <thead>\n",
       "    <tr style=\"text-align: right;\">\n",
       "      <th></th>\n",
       "      <th>order_id</th>\n",
       "      <th>product_id</th>\n",
       "      <th>add_to_cart_order</th>\n",
       "      <th>reordered</th>\n",
       "    </tr>\n",
       "  </thead>\n",
       "  <tbody>\n",
       "  </tbody>\n",
       "</table>\n",
       "</div>"
      ],
      "text/plain": [
       "Empty DataFrame\n",
       "Columns: [order_id, product_id, add_to_cart_order, reordered]\n",
       "Index: []"
      ]
     },
     "execution_count": 21,
     "metadata": {},
     "output_type": "execute_result"
    }
   ],
   "source": [
    "orderproducts[orderproducts.duplicated(subset=['order_id', 'product_id'])]"
   ]
  },
  {
   "cell_type": "code",
   "execution_count": 22,
   "id": "36cd0ad6",
   "metadata": {},
   "outputs": [
    {
     "name": "stdout",
     "output_type": "stream",
     "text": [
      "         order_id  product_id  add_to_cart_order  reordered\n",
      "0         2141543       11440               17.0          0\n",
      "1          567889        1560                1.0          1\n",
      "2         2261212       26683                1.0          1\n",
      "3          491251        8670               35.0          1\n",
      "4         2571142        1940                5.0          1\n",
      "...           ...         ...                ...        ...\n",
      "4539981    267402       45226               14.0          0\n",
      "4540724   2621676       25201               10.0          0\n",
      "4540999    937623       49153                2.0          0\n",
      "4541048    532895        8182                1.0          0\n",
      "4542909   3132243       40024                1.0          0\n",
      "\n",
      "[45573 rows x 4 columns]\n"
     ]
    }
   ],
   "source": [
    "orderproduct_duplicates = orderproducts.drop_duplicates(subset='product_id')\n",
    "print(orderproduct_duplicates)"
   ]
  },
  {
   "cell_type": "markdown",
   "id": "1e46de76",
   "metadata": {},
   "source": [
    "## Find and remove missing values\n"
   ]
  },
  {
   "cell_type": "markdown",
   "id": "c0aebd78",
   "metadata": {},
   "source": [
    "### `products` data frame"
   ]
  },
  {
   "cell_type": "code",
   "execution_count": 23,
   "id": "fe4a8b0f",
   "metadata": {},
   "outputs": [
    {
     "name": "stdout",
     "output_type": "stream",
     "text": [
      "         order_id  product_id  add_to_cart_order  reordered\n",
      "0         2141543       11440               17.0          0\n",
      "1          567889        1560                1.0          1\n",
      "2         2261212       26683                1.0          1\n",
      "3          491251        8670               35.0          1\n",
      "4         2571142        1940                5.0          1\n",
      "...           ...         ...                ...        ...\n",
      "4545002    577211       15290               12.0          1\n",
      "4545003   1219554       21914                9.0          0\n",
      "4545004    692640       47766                4.0          1\n",
      "4545005    319435         691                8.0          1\n",
      "4545006   1398151       28733                9.0          0\n",
      "\n",
      "[4545007 rows x 4 columns]\n"
     ]
    }
   ],
   "source": [
    "orderproduct_dropdups = orderproducts.drop_duplicates(subset=['order_id','product_id'])\n",
    "print(orderproduct_dropdups)"
   ]
  },
  {
   "cell_type": "code",
   "execution_count": 24,
   "id": "e96167bc",
   "metadata": {},
   "outputs": [
    {
     "name": "stdout",
     "output_type": "stream",
     "text": [
      "0\n"
     ]
    }
   ],
   "source": [
    "# Are all of the missing product names associated with aisle ID 100?\n",
    "orderproduct_duplicates = orderproducts.duplicated().sum()\n",
    "print(orderproduct_duplicates)"
   ]
  },
  {
   "cell_type": "code",
   "execution_count": 25,
   "id": "8fd0a541",
   "metadata": {},
   "outputs": [
    {
     "name": "stdout",
     "output_type": "stream",
     "text": [
      "    department_id       department\n",
      "0               1           frozen\n",
      "1               2            other\n",
      "2               3           bakery\n",
      "3               4          produce\n",
      "4               5          alcohol\n",
      "5               6    international\n",
      "6               7        beverages\n",
      "7               8             pets\n",
      "8               9  dry goods pasta\n",
      "9              10             bulk\n",
      "10             11    personal care\n",
      "11             12     meat seafood\n",
      "12             13           pantry\n",
      "13             14        breakfast\n",
      "14             15     canned goods\n",
      "15             16       dairy eggs\n",
      "16             17        household\n",
      "17             18           babies\n",
      "18             19           snacks\n",
      "19             20             deli\n",
      "20             21          missing\n"
     ]
    }
   ],
   "source": [
    "# Are all of the missing product names associated with department ID 21?\n",
    "print(departments)"
   ]
  },
  {
   "cell_type": "code",
   "execution_count": 26,
   "id": "325c3464",
   "metadata": {},
   "outputs": [
    {
     "name": "stdout",
     "output_type": "stream",
     "text": [
      "aisle 20: missing\n"
     ]
    }
   ],
   "source": [
    "# What is this ailse and department?\n",
    "print('aisle 20: missing')"
   ]
  },
  {
   "cell_type": "code",
   "execution_count": 27,
   "id": "6b295120",
   "metadata": {},
   "outputs": [
    {
     "name": "stdout",
     "output_type": "stream",
     "text": [
      "0                               Chocolate Sandwich Cookies\n",
      "1                                         All-Seasons Salt\n",
      "2                     Robust Golden Unsweetened Oolong Tea\n",
      "3        Smart Ones Classic Favorites Mini Rigatoni Wit...\n",
      "4                                Green Chile Anytime Sauce\n",
      "                               ...                        \n",
      "49689                        HIGH PERFORMANCE ENERGY DRINK\n",
      "49690                        ORIGINAL PANCAKE & WAFFLE MIX\n",
      "49691      ORGANIC INSTANT OATMEAL LIGHT MAPLE BROWN SUGAR\n",
      "49692                               SPRING WATER BODY WASH\n",
      "49693                              BURRITO- STEAK & CHEESE\n",
      "Name: product_name, Length: 49694, dtype: object\n"
     ]
    }
   ],
   "source": [
    "# Fill missing product names with 'Unknown'\n",
    "products_item = products[\"product_name\"].fillna(\"Unknown\")\n",
    "print(products_item)"
   ]
  },
  {
   "cell_type": "markdown",
   "id": "fc70e5ad",
   "metadata": {},
   "source": []
  },
  {
   "cell_type": "markdown",
   "id": "7eb45c86",
   "metadata": {},
   "source": [
    "### `orders` data frame"
   ]
  },
  {
   "cell_type": "code",
   "execution_count": 28,
   "id": "93e41d96",
   "metadata": {},
   "outputs": [
    {
     "name": "stdout",
     "output_type": "stream",
     "text": [
      "        order_id  user_id  order_number  order_dow  order_hour_of_day  \\\n",
      "0        1515936   183418            11          6                 13   \n",
      "1        1690866   163593             5          5                 12   \n",
      "2        1454967    39980             4          5                 19   \n",
      "3        1768857    82516            56          0                 20   \n",
      "4        3007858   196724             2          4                 12   \n",
      "...          ...      ...           ...        ...                ...   \n",
      "478962   3210681     5617             5          1                 14   \n",
      "478963   3270802   112087             2          3                 13   \n",
      "478964    885349    82944            16          2                 11   \n",
      "478965    216274     4391             3          3                  8   \n",
      "478966   2071924     1730            18          1                 14   \n",
      "\n",
      "        days_since_prior_order  \n",
      "0                         30.0  \n",
      "1                          9.0  \n",
      "2                          2.0  \n",
      "3                         10.0  \n",
      "4                         17.0  \n",
      "...                        ...  \n",
      "478962                     7.0  \n",
      "478963                     6.0  \n",
      "478964                     6.0  \n",
      "478965                     8.0  \n",
      "478966                    15.0  \n",
      "\n",
      "[478967 rows x 6 columns]\n"
     ]
    }
   ],
   "source": [
    "print(orders)"
   ]
  },
  {
   "cell_type": "code",
   "execution_count": 29,
   "id": "166e5a86",
   "metadata": {},
   "outputs": [
    {
     "name": "stdout",
     "output_type": "stream",
     "text": [
      "<bound method DataFrame.duplicated of         order_id  user_id  order_number  order_dow  order_hour_of_day  \\\n",
      "0        1515936   183418            11          6                 13   \n",
      "1        1690866   163593             5          5                 12   \n",
      "2        1454967    39980             4          5                 19   \n",
      "3        1768857    82516            56          0                 20   \n",
      "4        3007858   196724             2          4                 12   \n",
      "...          ...      ...           ...        ...                ...   \n",
      "478962   3210681     5617             5          1                 14   \n",
      "478963   3270802   112087             2          3                 13   \n",
      "478964    885349    82944            16          2                 11   \n",
      "478965    216274     4391             3          3                  8   \n",
      "478966   2071924     1730            18          1                 14   \n",
      "\n",
      "        days_since_prior_order  \n",
      "0                         30.0  \n",
      "1                          9.0  \n",
      "2                          2.0  \n",
      "3                         10.0  \n",
      "4                         17.0  \n",
      "...                        ...  \n",
      "478962                     7.0  \n",
      "478963                     6.0  \n",
      "478964                     6.0  \n",
      "478965                     8.0  \n",
      "478966                    15.0  \n",
      "\n",
      "[478967 rows x 6 columns]>\n"
     ]
    }
   ],
   "source": [
    "# Are there any missing values where it's not a customer's first order?\n",
    "orders_duplicated = orders.duplicated\n",
    "print(orders_duplicated)"
   ]
  },
  {
   "cell_type": "markdown",
   "id": "4e23d089",
   "metadata": {},
   "source": []
  },
  {
   "cell_type": "markdown",
   "id": "69dc9ca4",
   "metadata": {},
   "source": [
    "### `order_products` data frame"
   ]
  },
  {
   "cell_type": "code",
   "execution_count": 30,
   "id": "b8240253",
   "metadata": {},
   "outputs": [
    {
     "name": "stdout",
     "output_type": "stream",
     "text": [
      "        order_id  user_id  order_number  order_dow  order_hour_of_day  \\\n",
      "0        1515936   183418            11          6                 13   \n",
      "1        1690866   163593             5          5                 12   \n",
      "2        1454967    39980             4          5                 19   \n",
      "3        1768857    82516            56          0                 20   \n",
      "4        3007858   196724             2          4                 12   \n",
      "...          ...      ...           ...        ...                ...   \n",
      "478962   3210681     5617             5          1                 14   \n",
      "478963   3270802   112087             2          3                 13   \n",
      "478964    885349    82944            16          2                 11   \n",
      "478965    216274     4391             3          3                  8   \n",
      "478966   2071924     1730            18          1                 14   \n",
      "\n",
      "        days_since_prior_order  \n",
      "0                         30.0  \n",
      "1                          9.0  \n",
      "2                          2.0  \n",
      "3                         10.0  \n",
      "4                         17.0  \n",
      "...                        ...  \n",
      "478962                     7.0  \n",
      "478963                     6.0  \n",
      "478964                     6.0  \n",
      "478965                     8.0  \n",
      "478966                    15.0  \n",
      "\n",
      "[478967 rows x 6 columns]\n"
     ]
    }
   ],
   "source": [
    "print(orders)"
   ]
  },
  {
   "cell_type": "code",
   "execution_count": 31,
   "id": "9a78e5ee",
   "metadata": {},
   "outputs": [
    {
     "name": "stdout",
     "output_type": "stream",
     "text": [
      "Minimum value in 'order_number': 1\n",
      "Maximum value in 'order_number': 100\n"
     ]
    }
   ],
   "source": [
    "# What are the min and max values in this column?\n",
    "min_value = orders['order_number'].min()\n",
    "max_value = orders['order_number'].max()\n",
    "\n",
    "print(\"Minimum value in 'order_number':\", min_value)\n",
    "print(\"Maximum value in 'order_number':\", max_value)"
   ]
  },
  {
   "cell_type": "code",
   "execution_count": 32,
   "id": "ab9d0c2b",
   "metadata": {},
   "outputs": [],
   "source": [
    "# Save all order IDs with at least one missing value in 'add_to_cart_order'\n",
    "add_to_cart_order = orders[orders.isnull().any(axis=1)]['order_id']"
   ]
  },
  {
   "cell_type": "code",
   "execution_count": 33,
   "id": "54c31695",
   "metadata": {},
   "outputs": [],
   "source": [
    "# Do all orders with missing values have more than 64 products?\n",
    "orders_with_more_than_64 = add_to_cart_order[orderproducts['product_id'] > 64]"
   ]
  },
  {
   "cell_type": "code",
   "execution_count": 34,
   "id": "7a987d08",
   "metadata": {},
   "outputs": [
    {
     "name": "stdout",
     "output_type": "stream",
     "text": [
      "        order_id  user_id  order_number  order_dow  order_hour_of_day  \\\n",
      "0        1515936   183418            11          6                 13   \n",
      "1        1690866   163593             5          5                 12   \n",
      "2        1454967    39980             4          5                 19   \n",
      "3        1768857    82516            56          0                 20   \n",
      "4        3007858   196724             2          4                 12   \n",
      "...          ...      ...           ...        ...                ...   \n",
      "478962   3210681     5617             5          1                 14   \n",
      "478963   3270802   112087             2          3                 13   \n",
      "478964    885349    82944            16          2                 11   \n",
      "478965    216274     4391             3          3                  8   \n",
      "478966   2071924     1730            18          1                 14   \n",
      "\n",
      "        days_since_prior_order  \n",
      "0                         30.0  \n",
      "1                          9.0  \n",
      "2                          2.0  \n",
      "3                         10.0  \n",
      "4                         17.0  \n",
      "...                        ...  \n",
      "478962                     7.0  \n",
      "478963                     6.0  \n",
      "478964                     6.0  \n",
      "478965                     8.0  \n",
      "478966                    15.0  \n",
      "\n",
      "[478967 rows x 6 columns]\n"
     ]
    }
   ],
   "source": [
    "# Replace missing values with 999 and convert column to integer type\n",
    "orders['order_id'] = orders['order_id'].astype('Int64', errors='ignore')\n",
    "print(orders)"
   ]
  },
  {
   "cell_type": "markdown",
   "id": "turkish-kidney",
   "metadata": {},
   "source": [
    "# [A] Easy (must complete all to pass)"
   ]
  },
  {
   "cell_type": "markdown",
   "id": "short-capability",
   "metadata": {},
   "source": [
    "### [A1] Verify that the `'order_hour_of_day'` and `'order_dow'` values in the `orders` tables are sensible (i.e. `'order_hour_of_day'` ranges from 0 to 23 and `'order_dow'` ranges from 0 to 6)"
   ]
  },
  {
   "cell_type": "code",
   "execution_count": 35,
   "id": "growing-fruit",
   "metadata": {},
   "outputs": [
    {
     "name": "stdout",
     "output_type": "stream",
     "text": [
      "0         13\n",
      "1         12\n",
      "2         19\n",
      "3         20\n",
      "4         12\n",
      "          ..\n",
      "478962    14\n",
      "478963    13\n",
      "478964    11\n",
      "478965     8\n",
      "478966    14\n",
      "Name: order_hour_of_day, Length: 478967, dtype: int64\n",
      "[13 12 19 20 11  8 18 15 16  9 22 10  0 14 17  1  7  6  2 21  3 23  5  4]\n",
      "The order hour of the day table appears sensible.\n"
     ]
    }
   ],
   "source": [
    "order_hour = (orders['order_hour_of_day'])\n",
    "order_hours_unique = (orders['order_hour_of_day']).unique()\n",
    "print(order_hour)\n",
    "print(order_hours_unique)\n",
    "print(\"The order hour of the day table appears sensible.\")"
   ]
  },
  {
   "cell_type": "code",
   "execution_count": 36,
   "id": "accessory-malaysia",
   "metadata": {},
   "outputs": [
    {
     "name": "stdout",
     "output_type": "stream",
     "text": [
      "0         6\n",
      "1         5\n",
      "2         5\n",
      "3         0\n",
      "4         4\n",
      "         ..\n",
      "478962    1\n",
      "478963    3\n",
      "478964    2\n",
      "478965    3\n",
      "478966    1\n",
      "Name: order_dow, Length: 478967, dtype: int64\n",
      "[6 5 0 4 3 1 2]\n",
      "The order days of the week table appears sensible.\n"
     ]
    }
   ],
   "source": [
    "order_days = (orders['order_dow'])\n",
    "order_unique = (orders['order_dow']).unique()\n",
    "print(order_days)\n",
    "print(order_unique)\n",
    "print(\"The order days of the week table appears sensible.\")"
   ]
  },
  {
   "cell_type": "code",
   "execution_count": 37,
   "id": "2016143f",
   "metadata": {},
   "outputs": [
    {
     "data": {
      "text/plain": [
       "[0,\n",
       " 1,\n",
       " 2,\n",
       " 3,\n",
       " 4,\n",
       " 5,\n",
       " 6,\n",
       " 7,\n",
       " 8,\n",
       " 9,\n",
       " 10,\n",
       " 11,\n",
       " 12,\n",
       " 13,\n",
       " 14,\n",
       " 15,\n",
       " 16,\n",
       " 17,\n",
       " 18,\n",
       " 19,\n",
       " 20,\n",
       " 21,\n",
       " 22,\n",
       " 23]"
      ]
     },
     "execution_count": 37,
     "metadata": {},
     "output_type": "execute_result"
    }
   ],
   "source": [
    "sorted(orders['order_hour_of_day'].unique())"
   ]
  },
  {
   "cell_type": "code",
   "execution_count": 38,
   "id": "71bb0dac",
   "metadata": {},
   "outputs": [
    {
     "data": {
      "text/plain": [
       "[0, 1, 2, 3, 4, 5, 6]"
      ]
     },
     "execution_count": 38,
     "metadata": {},
     "output_type": "execute_result"
    }
   ],
   "source": [
    "sorted(orders['order_dow'].unique())"
   ]
  },
  {
   "cell_type": "code",
   "execution_count": null,
   "id": "83f8a915",
   "metadata": {},
   "outputs": [],
   "source": []
  },
  {
   "cell_type": "markdown",
   "id": "a6743a70",
   "metadata": {},
   "source": [
    "### [A2] What time of day do people shop for groceries?"
   ]
  },
  {
   "cell_type": "code",
   "execution_count": 39,
   "id": "a36cca27",
   "metadata": {},
   "outputs": [
    {
     "name": "stdout",
     "output_type": "stream",
     "text": [
      "count    478967.000000\n",
      "mean         13.446676\n",
      "std           4.224986\n",
      "min           0.000000\n",
      "25%          10.000000\n",
      "50%          13.000000\n",
      "75%          16.000000\n",
      "max          23.000000\n",
      "Name: order_hour_of_day, dtype: float64\n"
     ]
    }
   ],
   "source": [
    " print(orders['order_hour_of_day'].describe())"
   ]
  },
  {
   "cell_type": "markdown",
   "id": "11270eed",
   "metadata": {},
   "source": []
  },
  {
   "cell_type": "markdown",
   "id": "documented-command",
   "metadata": {},
   "source": [
    "### [A3] What day of the week do people shop for groceries?"
   ]
  },
  {
   "cell_type": "code",
   "execution_count": 40,
   "id": "chief-digit",
   "metadata": {},
   "outputs": [
    {
     "name": "stdout",
     "output_type": "stream",
     "text": [
      "count    478967.000000\n",
      "mean          2.775058\n",
      "std           2.045869\n",
      "min           0.000000\n",
      "25%           1.000000\n",
      "50%           3.000000\n",
      "75%           5.000000\n",
      "max           6.000000\n",
      "Name: order_dow, dtype: float64\n"
     ]
    }
   ],
   "source": [
    " print(orders['order_dow'].describe())"
   ]
  },
  {
   "cell_type": "markdown",
   "id": "dominant-lightning",
   "metadata": {},
   "source": []
  },
  {
   "cell_type": "markdown",
   "id": "cutting-concert",
   "metadata": {},
   "source": [
    "### [A4] How long do people wait until placing another order?"
   ]
  },
  {
   "cell_type": "code",
   "execution_count": 41,
   "id": "ad3e0536",
   "metadata": {},
   "outputs": [
    {
     "data": {
      "image/png": "[encoded data removed]",
      "text/plain": [
       "<Figure size 432x288 with 1 Axes>"
      ]
     },
     "metadata": {
      "needs_background": "light"
     },
     "output_type": "display_data"
    },
    {
     "name": "stdout",
     "output_type": "stream",
     "text": [
      "The distribution of days between orders appears informative.\n",
      "Anyone looking at this trend should plan merchandising accordingly.\n"
     ]
    }
   ],
   "source": [
    "import matplotlib.pyplot as plt\n",
    "orders['days_since_prior_order'].hist(bins=30)\n",
    "plt.title('Distribution of Days Since Prior Order')\n",
    "plt.xlabel('Days Since Prior Order')\n",
    "plt.ylabel('Frequency')\n",
    "plt.show()\n",
    "print(\"The distribution of days between orders appears informative.\")\n",
    "print(\"Anyone looking at this trend should plan merchandising accordingly.\")"
   ]
  },
  {
   "cell_type": "markdown",
   "id": "2ef98482",
   "metadata": {},
   "source": [
    "The distribution of days between orders appears informative.\n",
    "\n",
    "Anyone looking at this trend should plan merchandising accordingly."
   ]
  },
  {
   "cell_type": "markdown",
   "id": "tight-staff",
   "metadata": {},
   "source": [
    "# [B] Medium (must complete all to pass)"
   ]
  },
  {
   "cell_type": "markdown",
   "id": "packed-classic",
   "metadata": {},
   "source": [
    "### [B1] Is there a difference in `'order_hour_of_day'` distributions on Wednesdays and Saturdays? Plot the histograms for both days and describe the differences that you see."
   ]
  },
  {
   "cell_type": "code",
   "execution_count": 42,
   "id": "d89b8403",
   "metadata": {},
   "outputs": [
    {
     "data": {
      "image/png": "[encoded data removed]",
      "text/plain": [
       "<Figure size 864x432 with 2 Axes>"
      ]
     },
     "metadata": {
      "needs_background": "light"
     },
     "output_type": "display_data"
    }
   ],
   "source": [
    "import matplotlib.pyplot as plt \n",
    "fig, ax = plt.subplots(nrows=1, ncols=2, figsize=(12, 6), sharey=True)\n",
    "\n",
    "wednesday_orders = orders[orders['order_dow'] == 3]\n",
    "ax[0].hist(wednesday_orders['order_hour_of_day'], bins=24, alpha=0.7, color='blue')\n",
    "ax[0].set_title('Wednesdays')\n",
    "ax[0].set_xlabel('Hour of Day')\n",
    "ax[0].set_ylabel('Frequency')\n",
    "ax[0].set_xticks(range(0, 24))\n",
    "\n",
    "saturday_orders = orders[orders['order_dow'] == 6]\n",
    "ax[1].hist(saturday_orders['order_hour_of_day'], bins=24, alpha=0.7, color='green')\n",
    "ax[1].set_title('Saturdays')\n",
    "ax[1].set_xlabel('Hour of Day')\n",
    "ax[1].set_xticks(range(0, 24))\n",
    "\n",
    "plt.tight_layout()\n",
    "plt.show()\n"
   ]
  },
  {
   "cell_type": "code",
   "execution_count": null,
   "id": "35bcea30",
   "metadata": {},
   "outputs": [],
   "source": []
  },
  {
   "cell_type": "markdown",
   "id": "charitable-congo",
   "metadata": {},
   "source": [
    "The table listed appear informative as to what hours merchandising would be most lucrative."
   ]
  },
  {
   "cell_type": "markdown",
   "id": "e3891143",
   "metadata": {},
   "source": [
    "### [B2] What's the distribution for the number of orders per customer?"
   ]
  },
  {
   "cell_type": "code",
   "execution_count": 43,
   "id": "d8c26c23",
   "metadata": {},
   "outputs": [],
   "source": [
    "orders_per_customer = orders.groupby('user_id')['order_id'].size()"
   ]
  },
  {
   "cell_type": "code",
   "execution_count": 44,
   "id": "00e69a66",
   "metadata": {},
   "outputs": [
    {
     "data": {
      "image/png": "[encoded data removed]",
      "text/plain": [
       "<Figure size 432x288 with 1 Axes>"
      ]
     },
     "metadata": {
      "needs_background": "light"
     },
     "output_type": "display_data"
    }
   ],
   "source": [
    "import matplotlib.pyplot as plt\n",
    "\n",
    "orders_per_customer.hist(bins=range(0, orders_per_customer.max() + 1), edgecolor='k')\n",
    "plt.title('Distribution of Number of Orders per Customer')\n",
    "plt.xlabel('Number of Orders')\n",
    "plt.ylabel('Frequency')\n",
    "plt.xticks(range(0, orders_per_customer.max() + 1, 5))  # Adjust the step as needed for clarity\n",
    "plt.show()"
   ]
  },
  {
   "cell_type": "markdown",
   "id": "d2eff7d5",
   "metadata": {},
   "source": [
    "The table created indicates the trend, including the maximum and minimum size of orders."
   ]
  },
  {
   "cell_type": "markdown",
   "id": "54a0319c",
   "metadata": {},
   "source": [
    "### [B3] What are the top 20 popular products (display their id and name)?"
   ]
  },
  {
   "cell_type": "code",
   "execution_count": 45,
   "id": "exterior-arizona",
   "metadata": {
    "scrolled": true
   },
   "outputs": [],
   "source": [
    "import pandas as pd\n",
    "products = pd.read_csv('/datasets/products.csv', sep=';')\n",
    "product_counts = products['product_id'].value_counts()"
   ]
  },
  {
   "cell_type": "code",
   "execution_count": 46,
   "id": "universal-facial",
   "metadata": {},
   "outputs": [],
   "source": [
    "product_counts = product_counts.reset_index()\n",
    "product_counts.columns = ['product_id', 'order_count']"
   ]
  },
  {
   "cell_type": "code",
   "execution_count": 47,
   "id": "bbcdd20b",
   "metadata": {},
   "outputs": [
    {
     "name": "stdout",
     "output_type": "stream",
     "text": [
      "       product_id  order_count  \\\n",
      "0               1            1   \n",
      "33145       33146            1   \n",
      "33123       33124            1   \n",
      "33124       33125            1   \n",
      "33125       33126            1   \n",
      "33126       33127            1   \n",
      "33127       33128            1   \n",
      "33128       33129            1   \n",
      "33129       33130            1   \n",
      "33130       33131            1   \n",
      "33131       33132            1   \n",
      "33132       33133            1   \n",
      "33133       33134            1   \n",
      "33134       33135            1   \n",
      "33135       33136            1   \n",
      "33136       33137            1   \n",
      "33137       33138            1   \n",
      "33138       33139            1   \n",
      "33139       33140            1   \n",
      "33140       33141            1   \n",
      "\n",
      "                                           product_name  aisle_id  \\\n",
      "0                            Chocolate Sandwich Cookies        61   \n",
      "33145                              Revolt Killer Citrus        64   \n",
      "33123  Healthy Kids Organic Chocolate Nutritional Shake        92   \n",
      "33124              Organic Mini Cheddar Cheese Crackers        78   \n",
      "33125                                  Sesame Flatbread       112   \n",
      "33126                        No Salt Roasted Pistachios       117   \n",
      "33127                         Riccardo Balsamic Vinegar        19   \n",
      "33128                                    Classic Hummus        67   \n",
      "33129      Organic Salt Free Cabbage Dill Raw Sauerkrat       110   \n",
      "33130                        Hair Remover Wax Strip Kit        55   \n",
      "33131                               Mild Red Taco Sauce        30   \n",
      "33132          Rising Crust Spicy Italian Sausage Pizza        79   \n",
      "33133                      Orange Recovery Energy Drink        64   \n",
      "33134                           Organic Blueberry Kefir       120   \n",
      "33135                       Tissue with Lotion Aloe & E        54   \n",
      "33136                         Mexican Style Chili Beans        59   \n",
      "33137              Classic Chopped Grill Feast Cat Food        41   \n",
      "33138                   Vegetarian Worcestershire Sauce        72   \n",
      "33139              Cruisers Diapers Jumbo Pack - Size 6        56   \n",
      "33140                                    Stir Fry Sauce        66   \n",
      "\n",
      "       department_id  \n",
      "0                 19  \n",
      "33145              7  \n",
      "33123             18  \n",
      "33124             19  \n",
      "33125              3  \n",
      "33126             19  \n",
      "33127             13  \n",
      "33128             20  \n",
      "33129             13  \n",
      "33130             11  \n",
      "33131              6  \n",
      "33132              1  \n",
      "33133              7  \n",
      "33134             16  \n",
      "33135             17  \n",
      "33136             15  \n",
      "33137              8  \n",
      "33138             13  \n",
      "33139             18  \n",
      "33140              6  \n"
     ]
    }
   ],
   "source": [
    "top_products = pd.merge(product_counts, products, on='product_id', how=\"right\")\n",
    "top_products = top_products.sort_values('order_count', ascending=False)\n",
    "print(top_products.head(20))"
   ]
  },
  {
   "cell_type": "markdown",
   "id": "7df00f47",
   "metadata": {},
   "source": []
  },
  {
   "cell_type": "markdown",
   "id": "gross-theme",
   "metadata": {},
   "source": [
    "# [C] Hard (must complete at least two to pass)"
   ]
  },
  {
   "cell_type": "markdown",
   "id": "romantic-deposit",
   "metadata": {},
   "source": [
    "### [C1] How many items do people typically buy in one order? What does the distribution look like?"
   ]
  },
  {
   "cell_type": "code",
   "execution_count": 48,
   "id": "virtual-punch",
   "metadata": {},
   "outputs": [],
   "source": [
    "items_per_order = orderproducts.groupby('order_id')['product_id'].count()"
   ]
  },
  {
   "cell_type": "code",
   "execution_count": 49,
   "id": "sensitive-breathing",
   "metadata": {},
   "outputs": [
    {
     "name": "stdout",
     "output_type": "stream",
     "text": [
      "count    450046.000000\n",
      "mean         10.098983\n",
      "std           7.540206\n",
      "min           1.000000\n",
      "25%           5.000000\n",
      "50%           8.000000\n",
      "75%          14.000000\n",
      "max         127.000000\n",
      "Name: product_id, dtype: float64\n"
     ]
    }
   ],
   "source": [
    "print(items_per_order.describe())"
   ]
  },
  {
   "cell_type": "code",
   "execution_count": 50,
   "id": "completed-frank",
   "metadata": {},
   "outputs": [
    {
     "data": {
      "image/png": "[encoded data removed]",
      "text/plain": [
       "<Figure size 432x288 with 1 Axes>"
      ]
     },
     "metadata": {
      "needs_background": "light"
     },
     "output_type": "display_data"
    }
   ],
   "source": [
    "import matplotlib.pyplot as plt\n",
    "\n",
    "plt.hist(items_per_order, bins=range(2, items_per_order.max()+1), edgecolor='k')\n",
    "plt.title('Distribution of Items per Order')\n",
    "plt.xlabel('Number of Items')\n",
    "plt.ylabel('Frequency')\n",
    "plt.show()"
   ]
  },
  {
   "cell_type": "markdown",
   "id": "designed-mortality",
   "metadata": {},
   "source": [
    "The table listed indicates the distribution pattern of items among all orders. Stakeholders should plan accordingly."
   ]
  },
  {
   "cell_type": "markdown",
   "id": "5e6b5537",
   "metadata": {},
   "source": [
    "### [C2] What are the top 20 items that are reordered most frequently (display their names and product IDs)?"
   ]
  },
  {
   "cell_type": "code",
   "execution_count": 51,
   "id": "9374e55a",
   "metadata": {},
   "outputs": [
    {
     "name": "stdout",
     "output_type": "stream",
     "text": [
      "         order_id  product_id  add_to_cart_order  reordered\n",
      "0         2141543       11440               17.0          0\n",
      "1          567889        1560                1.0          1\n",
      "2         2261212       26683                1.0          1\n",
      "3          491251        8670               35.0          1\n",
      "4         2571142        1940                5.0          1\n",
      "...           ...         ...                ...        ...\n",
      "4543424   1790509       43739                1.0          1\n",
      "4543722   1274005       38275                1.0          1\n",
      "4543749    812418       46149                1.0          1\n",
      "4544396   2666881         196                1.0          1\n",
      "4544839   1461911       33198                1.0          1\n",
      "\n",
      "[450046 rows x 4 columns]\n"
     ]
    }
   ],
   "source": [
    "orderproducts_dups = orderproducts.drop_duplicates(subset='order_id')\n",
    "print(orderproducts_dups)\n",
    "reordered_items = orderproducts_dups[orderproducts_dups['reordered'] == 1]"
   ]
  },
  {
   "cell_type": "code",
   "execution_count": 52,
   "id": "possible-change",
   "metadata": {
    "scrolled": true
   },
   "outputs": [],
   "source": [
    "reordered_counts = reordered_items['reordered'].value_counts().reset_index()\n",
    "reordered_counts.columns = ['product_id', 'reordered']"
   ]
  },
  {
   "cell_type": "code",
   "execution_count": 53,
   "id": "professional-surfing",
   "metadata": {
    "scrolled": true
   },
   "outputs": [],
   "source": [
    "top_reordered = pd.merge(reordered_counts, products, on='product_id')"
   ]
  },
  {
   "cell_type": "code",
   "execution_count": 54,
   "id": "48dd3658",
   "metadata": {},
   "outputs": [
    {
     "name": "stdout",
     "output_type": "stream",
     "text": [
      "   product_id                product_name  reordered\n",
      "0           1  Chocolate Sandwich Cookies     270159\n"
     ]
    }
   ],
   "source": [
    "top_20_reordered = top_reordered.sort_values('reordered', ascending=False).head(20)\n",
    "print(top_20_reordered[['product_id', 'product_name', 'reordered']])"
   ]
  },
  {
   "cell_type": "markdown",
   "id": "80e70c74",
   "metadata": {},
   "source": []
  },
  {
   "cell_type": "markdown",
   "id": "9d312b14",
   "metadata": {},
   "source": [
    "### [C3] For each product, what proportion of its orders are reorders?"
   ]
  },
  {
   "cell_type": "code",
   "execution_count": 55,
   "id": "8ae9f4b1",
   "metadata": {},
   "outputs": [],
   "source": [
    "total_orders_per_product = orderproducts['order_id'].value_counts().reset_index()\n",
    "total_orders_per_product.columns = ['order_id', 'total_orders']"
   ]
  },
  {
   "cell_type": "code",
   "execution_count": 56,
   "id": "103e7fe1",
   "metadata": {
    "scrolled": true
   },
   "outputs": [
    {
     "name": "stdout",
     "output_type": "stream",
     "text": [
      "        order_id  total_orders  reorder_count  reorder_proportion\n",
      "0          61355           127              4            0.031496\n",
      "1        3308010           115            114            0.991304\n",
      "2        2136777           108             55            0.509259\n",
      "3         171934           104             35            0.336538\n",
      "4        1959075            98             98            1.000000\n",
      "...          ...           ...            ...                 ...\n",
      "395814   1510533             1              1            1.000000\n",
      "395815   3339207             1              1            1.000000\n",
      "395816     54659             1              1            1.000000\n",
      "395817   1717983             1              1            1.000000\n",
      "395818   1136563             1              1            1.000000\n",
      "\n",
      "[395819 rows x 4 columns]\n"
     ]
    }
   ],
   "source": [
    "reorders_per_product = orderproducts[orderproducts['reordered'] == 1]['order_id'].value_counts().reset_index()\n",
    "reorders_per_product.columns = ['order_id', 'reorder_count']\n",
    "product_reorder_stats = pd.merge(total_orders_per_product, reorders_per_product, on='order_id')\n",
    "product_reorder_stats['reorder_proportion'] = product_reorder_stats['reorder_count'] / product_reorder_stats['total_orders']\n",
    "print(product_reorder_stats)"
   ]
  },
  {
   "cell_type": "code",
   "execution_count": 57,
   "id": "social-individual",
   "metadata": {},
   "outputs": [
    {
     "name": "stdout",
     "output_type": "stream",
     "text": [
      "We can clearly see the patterns in what people reorder with the above table, including one hundred percent of several orders.\n"
     ]
    }
   ],
   "source": [
    "print(\"We can clearly see the patterns in what people reorder with the above table, including one hundred percent of several orders.\")"
   ]
  },
  {
   "cell_type": "markdown",
   "id": "subject-boxing",
   "metadata": {},
   "source": [
    "### [C4] For each customer, what proportion of their products ordered are reorders?"
   ]
  },
  {
   "cell_type": "code",
   "execution_count": 58,
   "id": "medical-couple",
   "metadata": {
    "scrolled": true
   },
   "outputs": [],
   "source": [
    "product_reorder_stats['reorder_proportion'] = product_reorder_stats['reorder_count'] / product_reorder_stats['total_orders']"
   ]
  },
  {
   "cell_type": "code",
   "execution_count": 59,
   "id": "8892e4b4",
   "metadata": {},
   "outputs": [
    {
     "name": "stdout",
     "output_type": "stream",
     "text": [
      "        order_id  total_orders  reorder_count  reorder_proportion\n",
      "0          61355           127              4            0.031496\n",
      "1        3308010           115            114            0.991304\n",
      "2        2136777           108             55            0.509259\n",
      "3         171934           104             35            0.336538\n",
      "4        1959075            98             98            1.000000\n",
      "...          ...           ...            ...                 ...\n",
      "395814   1510533             1              1            1.000000\n",
      "395815   3339207             1              1            1.000000\n",
      "395816     54659             1              1            1.000000\n",
      "395817   1717983             1              1            1.000000\n",
      "395818   1136563             1              1            1.000000\n",
      "\n",
      "[395819 rows x 4 columns]\n"
     ]
    }
   ],
   "source": [
    "total_orders_per_product = orderproducts['order_id'].value_counts().reset_index()\n",
    "total_orders_per_product.columns = ['order_id', 'total_orders']\n",
    "\n",
    "reorders_per_product = orderproducts[orderproducts['reordered'] == 1]['order_id'].value_counts().reset_index()\n",
    "reorders_per_product.columns = ['order_id', 'reorder_count']\n",
    "\n",
    "product_reorder_stats = pd.merge(total_orders_per_product, reorders_per_product, on='order_id')\n",
    "\n",
    "product_reorder_stats['reorder_proportion'] = product_reorder_stats['reorder_count'] / product_reorder_stats['total_orders']\n",
    "print(product_reorder_stats)"
   ]
  },
  {
   "cell_type": "markdown",
   "id": "92d35137",
   "metadata": {},
   "source": [
    "### [C5] What are the top 20 items that people put in their carts first? "
   ]
  },
  {
   "cell_type": "code",
   "execution_count": 60,
   "id": "0ae57274",
   "metadata": {
    "scrolled": true
   },
   "outputs": [],
   "source": [
    "product_reorder_stats['reorder_proportion'] = product_reorder_stats['reorder_count'] / product_reorder_stats['total_orders']"
   ]
  },
  {
   "cell_type": "code",
   "execution_count": 61,
   "id": "forty-netherlands",
   "metadata": {
    "scrolled": true
   },
   "outputs": [
    {
     "name": "stdout",
     "output_type": "stream",
     "text": [
      "    product_id  count_first_added\n",
      "0        24852              15562\n",
      "1        13176              11026\n",
      "2        27845               4363\n",
      "3        21137               3946\n",
      "4        47209               3390\n",
      "5        21903               3336\n",
      "6        47766               3044\n",
      "7        19660               2336\n",
      "8        16797               2308\n",
      "9        27966               2024\n",
      "10       44632               1914\n",
      "11       49235               1797\n",
      "12       47626               1737\n",
      "13         196               1733\n",
      "14       38689               1397\n",
      "15       26209               1370\n",
      "16       12341               1340\n",
      "17        5785               1310\n",
      "18       27086               1309\n",
      "19       22935               1246\n"
     ]
    }
   ],
   "source": [
    "first_added_items = orderproducts[orderproducts['add_to_cart_order'] == 1]\n",
    "\n",
    "top_first_added = first_added_items['product_id'].value_counts().head(20).reset_index()\n",
    "\n",
    "\n",
    "top_first_added.columns = ['product_id', 'count_first_added']\n",
    "\n",
    "print(top_first_added)\n",
    "\n"
   ]
  },
  {
   "cell_type": "code",
   "execution_count": null,
   "id": "08e41ec2",
   "metadata": {},
   "outputs": [],
   "source": []
  },
  {
   "cell_type": "markdown",
   "id": "28ce9872",
   "metadata": {},
   "source": [
    "Overall we can see the ordering and item distribution patterns of the select Instacart orders indicated. This can help plan when and which items hold priority."
   ]
  },
  {
   "cell_type": "markdown",
   "id": "064faddc",
   "metadata": {},
   "source": []
  },
  {
   "cell_type": "markdown",
   "id": "f4dcd07c",
   "metadata": {},
   "source": []
  }
 ],
 "metadata": {
  "kernelspec": {
   "display_name": "Python 3 (ipykernel)",
   "language": "python",
   "name": "python3"
  },
  "language_info": {
   "codemirror_mode": {
    "name": "ipython",
    "version": 3
   },
   "file_extension": ".py",
   "mimetype": "text/x-python",
   "name": "python",
   "nbconvert_exporter": "python",
   "pygments_lexer": "ipython3",
   "version": "3.9.19"
  },
  "toc": {
   "base_numbering": 1,
   "nav_menu": {},
   "number_sections": true,
   "sideBar": true,
   "skip_h1_title": true,
   "title_cell": "Table of Contents",
   "title_sidebar": "Contents",
   "toc_cell": false,
   "toc_position": {
    "height": "calc(100% - 180px)",
    "left": "10px",
    "top": "150px",
    "width": "358.391px"
   },
   "toc_section_display": true,
   "toc_window_display": true
  },
  "vscode": {
   "interpreter": {
    "hash": "01a7be9ec63e704a62cefc5fe7a4756944464ee731be31632bdf42a4cb4688cf"
   }
  }
 },
 "nbformat": 4,
 "nbformat_minor": 5
}
